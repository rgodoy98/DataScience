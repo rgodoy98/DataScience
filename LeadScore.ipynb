{
 "cells": [
  {
   "cell_type": "markdown",
   "metadata": {},
   "source": [
    "# BRG Insights - Modelo de Regressão Logística aplicado à LeadScore "
   ]
  },
  {
   "cell_type": "markdown",
   "metadata": {},
   "source": [
    "<b> Problemática: </b>\n",
    "    \n",
    "    Utilizar o modelo de Regressão Logística com Aprendizagem Supervisionada para definir a probabilidade (0 a 1) do candidato se matricular naquela instituição, de acordo com as variáveis quantitativas e qualitativas.\n",
    "\n",
    "\n",
    "IMPORT DAS BIBLIOTECAS NECESSÁRIAS PARA CONSTRUÇÃO DO MODELO"
   ]
  },
  {
   "cell_type": "code",
   "execution_count": 1,
   "metadata": {},
   "outputs": [],
   "source": [
    "import pandas as pd\n",
    "import numpy as np\n",
    "import matplotlib.pyplot as plt\n",
    "%matplotlib inline"
   ]
  },
  {
   "cell_type": "markdown",
   "metadata": {},
   "source": [
    "REALIZANDO O TRATAMENTO DOS DADOS E TRANSFORMAÇÃO DAS VARIÁVEIS CATEGÓRICAS"
   ]
  },
  {
   "cell_type": "code",
   "execution_count": 2,
   "metadata": {},
   "outputs": [],
   "source": [
    "# Carga das Bases de Dados\n",
    "\n",
    "df_base = pd.read_csv(\"Results3.csv\",encoding='cp1252')\n",
    "df_kroton = pd.read_csv(\"kroton-2018.csv\",encoding='cp1252',sep=\";\")[[\"ID Bearings\",\"Flag_Matriculado\"]]"
   ]
  },
  {
   "cell_type": "code",
   "execution_count": 3,
   "metadata": {},
   "outputs": [],
   "source": [
    "# Tratando o Campo ID Bearings para compatibilidade com a Base Treino\n",
    "\n",
    "df_kroton['ID Bearings'] = df_kroton['ID Bearings'].str[:-7]\n",
    "df_kroton['Id_final'] = df_kroton['ID Bearings'].str.split('-',n=1,expand=True)[1]"
   ]
  },
  {
   "cell_type": "code",
   "execution_count": 4,
   "metadata": {},
   "outputs": [],
   "source": [
    "# Criando o DataFrame unico com o Flag Matrículas \n",
    "\n",
    "df = df_base.merge(df_kroton,left_on=\"Id\",right_on=\"Id_final\",how='left')"
   ]
  },
  {
   "cell_type": "code",
   "execution_count": 5,
   "metadata": {},
   "outputs": [],
   "source": [
    "# Eliminando Colunas Desnecessárias\n",
    "\n",
    "df = df.drop(columns=['ID Bearings','Id_final', 'SchoolYearId'])"
   ]
  },
  {
   "cell_type": "code",
   "execution_count": 6,
   "metadata": {},
   "outputs": [],
   "source": [
    "# Acrescentando Dados de Cidade (Tipo e UF)\n",
    "\n",
    "df_municipio = pd.read_excel(\"Tabela_Municipio.xlsx\")[['CO_QC?','NOME (C.ACENTO)','NO_UF','CIDADE_TIPO']]"
   ]
  },
  {
   "cell_type": "code",
   "execution_count": 7,
   "metadata": {},
   "outputs": [],
   "source": [
    "df = df.merge(df_municipio,left_on='CityId',right_on='CO_QC?',how='left')"
   ]
  },
  {
   "cell_type": "code",
   "execution_count": 8,
   "metadata": {},
   "outputs": [],
   "source": [
    "# Padronizando a Base \n",
    "\n",
    "df = df.drop(columns=['CO_QC?'])\n",
    "df = df.rename(columns={'Description':'SchoolYear','NOME (C.ACENTO)':'CityName','NO_UF':'UF','CIDADE_TIPO':'CityType','to_date':'date'})"
   ]
  },
  {
   "cell_type": "code",
   "execution_count": 9,
   "metadata": {},
   "outputs": [],
   "source": [
    "# Transformando Flag Matrículas em Variável Binária\n",
    "\n",
    "df['Flag_Matriculado'].fillna(0,inplace=True)"
   ]
  },
  {
   "cell_type": "code",
   "execution_count": 10,
   "metadata": {},
   "outputs": [
    {
     "name": "stdout",
     "output_type": "stream",
     "text": [
      "<class 'pandas.core.frame.DataFrame'>\n",
      "Int64Index: 927825 entries, 0 to 927824\n",
      "Data columns (total 13 columns):\n",
      "Id                   927825 non-null object\n",
      "Age                  927825 non-null int64\n",
      "CityId               814542 non-null float64\n",
      "date                 927825 non-null object\n",
      "Email                927505 non-null object\n",
      "PhoneNumber          845790 non-null object\n",
      "SocialClassId        810130 non-null object\n",
      "YearToJoinCollege    249687 non-null float64\n",
      "SchoolYear           927825 non-null object\n",
      "Flag_Matriculado     927825 non-null float64\n",
      "CityName             814542 non-null object\n",
      "UF                   814542 non-null object\n",
      "CityType             814542 non-null object\n",
      "dtypes: float64(3), int64(1), object(9)\n",
      "memory usage: 99.1+ MB\n"
     ]
    }
   ],
   "source": [
    "# Impossibilidade Usar o campo YearToJoinCollege devido ao tamanho de valores Nulos\n",
    "\n",
    "df.info()"
   ]
  },
  {
   "cell_type": "code",
   "execution_count": 11,
   "metadata": {},
   "outputs": [],
   "source": [
    "df = df.drop(columns=['YearToJoinCollege'])"
   ]
  },
  {
   "cell_type": "markdown",
   "metadata": {},
   "source": [
    "CRIANDO AS VARIÁVEIS CONTÍNUAS COM BASE EM PESO NAS VARIÁVEIS CATEGÓRICAS"
   ]
  },
  {
   "cell_type": "code",
   "execution_count": 12,
   "metadata": {},
   "outputs": [],
   "source": [
    "df.fillna(0,inplace=True)"
   ]
  },
  {
   "cell_type": "code",
   "execution_count": 13,
   "metadata": {},
   "outputs": [],
   "source": [
    "# Criação das Variáveis Booleanas\n",
    "\n",
    "df['PhoneNumberbool'] = np.where(df['PhoneNumber']==0,0,1)\n",
    "df['Emailbool'] = np.where(df['Email']==0,0,1)"
   ]
  },
  {
   "cell_type": "code",
   "execution_count": 14,
   "metadata": {},
   "outputs": [],
   "source": [
    "# Variáveis Categóricas\n",
    "\n",
    "from sklearn.preprocessing import LabelEncoder"
   ]
  },
  {
   "cell_type": "code",
   "execution_count": 15,
   "metadata": {},
   "outputs": [],
   "source": [
    "df['CityType'] = df['CityType'].replace({0:'NAO DECLARADO'})\n",
    "df['UF'] = df['UF'].replace({0:'NAO DECLARADO'})\n",
    "df['SocialClassId'] = df['SocialClassId'].replace({0:'NAO DECLARADO'})"
   ]
  },
  {
   "cell_type": "code",
   "execution_count": 16,
   "metadata": {},
   "outputs": [],
   "source": [
    "gle = LabelEncoder()\n",
    "\n",
    "citytype_labels = gle.fit_transform(df['CityType'])\n",
    "citytype_mappings = {index: label for index, label in \n",
    "                  enumerate(gle.classes_)}\n",
    "\n",
    "uf_labels = gle.fit_transform(df['UF'])\n",
    "uf_mappings = {index: label for index, label in \n",
    "                  enumerate(gle.classes_)}"
   ]
  },
  {
   "cell_type": "code",
   "execution_count": 17,
   "metadata": {},
   "outputs": [],
   "source": [
    "df['v_CityType'] = citytype_labels\n",
    "df['v_UF'] = uf_labels"
   ]
  },
  {
   "cell_type": "code",
   "execution_count": 18,
   "metadata": {},
   "outputs": [
    {
     "data": {
      "text/plain": [
       "array(['D', 'C', 'B', 'NAO DECLARADO', 'I', 'E', 'A'], dtype=object)"
      ]
     },
     "execution_count": 18,
     "metadata": {},
     "output_type": "execute_result"
    }
   ],
   "source": [
    "df['SocialClassId'].unique()"
   ]
  },
  {
   "cell_type": "code",
   "execution_count": 19,
   "metadata": {},
   "outputs": [],
   "source": [
    "# Atribuindo Ordinais a Renda (Lembrando que não é Linear)\n",
    "socialclass_ord_map = {'I' :0, 'E' :1, 'D' :2, 'C' :3, 'B' :4, 'A' :5}"
   ]
  },
  {
   "cell_type": "code",
   "execution_count": 20,
   "metadata": {},
   "outputs": [],
   "source": [
    "df['v_SocialClassId'] = df['SocialClassId'].map(socialclass_ord_map)"
   ]
  },
  {
   "cell_type": "code",
   "execution_count": 21,
   "metadata": {},
   "outputs": [
    {
     "data": {
      "text/plain": [
       "array(['2º ano - Ens. Médio', 'Outros', 'Cursinho', '1º ano - Ens. Médio',\n",
       "       'Superior completo', 'Superior incompleto', '3º ano - Ens. Médio',\n",
       "       'Ens. Fundamental'], dtype=object)"
      ]
     },
     "execution_count": 21,
     "metadata": {},
     "output_type": "execute_result"
    }
   ],
   "source": [
    "df['SchoolYear'].unique()"
   ]
  },
  {
   "cell_type": "code",
   "execution_count": 22,
   "metadata": {},
   "outputs": [],
   "source": [
    "schoolyear_ord_map = {\n",
    "    'Outros':0,\n",
    "    'Ens. Fundamental':1,\n",
    "    '1º ano - Ens. Médio':2,\n",
    "    '2º ano - Ens. Médio':3,\n",
    "    '3º ano - Ens. Médio':4,\n",
    "    'Cursinho':5,\n",
    "    'Superior incompleto':6,\n",
    "    'Superior completo':7 }"
   ]
  },
  {
   "cell_type": "code",
   "execution_count": 23,
   "metadata": {},
   "outputs": [],
   "source": [
    "df['v_SchoolYear'] = df['SchoolYear'].map(schoolyear_ord_map)"
   ]
  },
  {
   "cell_type": "code",
   "execution_count": 24,
   "metadata": {},
   "outputs": [],
   "source": [
    "df['Age'] = np.where(df['Age']>99,18,df['Age'])\n",
    "df['Age'] = np.where(df['Age']<0,18,df['Age'])"
   ]
  },
  {
   "cell_type": "markdown",
   "metadata": {},
   "source": [
    "CALCULANDO OS VALORES QUANTITATIVOS"
   ]
  },
  {
   "cell_type": "code",
   "execution_count": 25,
   "metadata": {},
   "outputs": [],
   "source": [
    "# Cálculo do Percentual de Matrículas por UF \n",
    "\n",
    "conversao_uf = df.groupby('v_UF').agg({'Id':'count','Flag_Matriculado':'sum'}).reset_index()\n",
    "conversao_uf['p_conversao'] = conversao_uf['Flag_Matriculado'] / conversao_uf['Id']\n",
    "conversao_uf = conversao_uf[['v_UF','p_conversao']]"
   ]
  },
  {
   "cell_type": "code",
   "execution_count": 26,
   "metadata": {},
   "outputs": [],
   "source": [
    "features = df[df['Flag_Matriculado']==1][['Id','Flag_Matriculado','PhoneNumberbool','Emailbool','v_CityType','v_UF','v_SocialClassId','v_SchoolYear']]"
   ]
  },
  {
   "cell_type": "code",
   "execution_count": 27,
   "metadata": {},
   "outputs": [],
   "source": [
    "phonenumberbool = features.groupby('PhoneNumberbool').agg({'Id':'count'}).reset_index()\n",
    "phonenumberbooltotal = phonenumberbool['Id'].sum()\n",
    "phonenumberbool['p_PhoneNumberbool'] = phonenumberbool['Id'] / phonenumberbooltotal\n",
    "phonenumberbool = phonenumberbool.drop(columns=['Id'])"
   ]
  },
  {
   "cell_type": "code",
   "execution_count": 28,
   "metadata": {},
   "outputs": [],
   "source": [
    "# Não Faz Sentido ponderar por email, visto que todos os leads enviados tem, pelo menos, o email como obrigação \n",
    "\n",
    "#emailbool = features.groupby('Emailbool').agg({'Id':'count'}).reset_index()\n",
    "#emailbooltotal = emailbool['Id'].sum()\n",
    "#emailbool['p_emailbool'] = emailbool['Id'] / emailbooltotal\n",
    "#emailbool = emailbool.drop(columns=['Id'])"
   ]
  },
  {
   "cell_type": "code",
   "execution_count": 29,
   "metadata": {},
   "outputs": [],
   "source": [
    "vcitytype = features.groupby('v_CityType').agg({'Id':'count'}).reset_index()\n",
    "vcitytypetotal = vcitytype['Id'].sum()\n",
    "vcitytype['p_CityType'] = vcitytype['Id'] / vcitytypetotal\n",
    "vcitytype = vcitytype.drop(columns=['Id'])"
   ]
  },
  {
   "cell_type": "code",
   "execution_count": 30,
   "metadata": {},
   "outputs": [],
   "source": [
    "vuf = features.groupby('v_UF').agg({'Id':'count'}).reset_index()\n",
    "vuftotal = vuf['Id'].sum()\n",
    "vuf['p_UF'] = vuf['Id'] / vuftotal\n",
    "vuf = vuf.drop(columns=['Id'])"
   ]
  },
  {
   "cell_type": "code",
   "execution_count": 31,
   "metadata": {},
   "outputs": [],
   "source": [
    "vsocialclass = features.groupby('v_SocialClassId').agg({'Id':'count'}).reset_index()\n",
    "vsocialclasstotal = vsocialclass['Id'].sum()\n",
    "vsocialclass['p_SocialClass'] = vsocialclass['Id'] / vsocialclasstotal\n",
    "vsocialclass = vsocialclass.drop(columns=['Id'])"
   ]
  },
  {
   "cell_type": "code",
   "execution_count": 32,
   "metadata": {},
   "outputs": [],
   "source": [
    "vschoolyear = features.groupby('v_SchoolYear').agg({'Id':'count'}).reset_index()\n",
    "vschoolyeartotal = vschoolyear['Id'].sum()\n",
    "vschoolyear['p_SchoolYear'] = vschoolyear['Id'] / vschoolyeartotal\n",
    "vschoolyear = vschoolyear.drop(columns=['Id'])"
   ]
  },
  {
   "cell_type": "code",
   "execution_count": 33,
   "metadata": {},
   "outputs": [],
   "source": [
    "df = df.merge(phonenumberbool)\n",
    "#df = df.merge(emailbool)\n",
    "df = df.merge(vcitytype)\n",
    "df = df.merge(vuf)\n",
    "df = df.merge(vsocialclass)\n",
    "df = df.merge(vschoolyear)\n",
    "df = df.merge(conversao_uf)"
   ]
  },
  {
   "cell_type": "code",
   "execution_count": 34,
   "metadata": {},
   "outputs": [
    {
     "data": {
      "text/plain": [
       "Id                    object\n",
       "Age                    int64\n",
       "CityId               float64\n",
       "date                  object\n",
       "Email                 object\n",
       "PhoneNumber           object\n",
       "SocialClassId         object\n",
       "SchoolYear            object\n",
       "Flag_Matriculado     float64\n",
       "CityName              object\n",
       "UF                    object\n",
       "CityType              object\n",
       "PhoneNumberbool        int32\n",
       "Emailbool              int32\n",
       "v_CityType             int32\n",
       "v_UF                   int32\n",
       "v_SocialClassId      float64\n",
       "v_SchoolYear           int64\n",
       "p_PhoneNumberbool    float64\n",
       "p_CityType           float64\n",
       "p_UF                 float64\n",
       "p_SocialClass        float64\n",
       "p_SchoolYear         float64\n",
       "p_conversao          float64\n",
       "dtype: object"
      ]
     },
     "execution_count": 34,
     "metadata": {},
     "output_type": "execute_result"
    }
   ],
   "source": [
    "df.dtypes"
   ]
  },
  {
   "cell_type": "markdown",
   "metadata": {},
   "source": [
    "# CONSTRUÇÃO DO MODELO"
   ]
  },
  {
   "cell_type": "code",
   "execution_count": 35,
   "metadata": {},
   "outputs": [],
   "source": [
    "# Trazendo todos os matriculados para a base treino\n",
    "\n",
    "df_treino_x = df[df['Flag_Matriculado']==1]"
   ]
  },
  {
   "cell_type": "code",
   "execution_count": 36,
   "metadata": {},
   "outputs": [],
   "source": [
    "# Retirando uma amostragem de não matriculados de igual tamanho para balancear a amostra a ser treinada\n",
    "\n",
    "df_treino_y = df[df['Flag_Matriculado']==0].sample(frac=0.00255)"
   ]
  },
  {
   "cell_type": "code",
   "execution_count": 37,
   "metadata": {},
   "outputs": [],
   "source": [
    "df_treino_1 = pd.concat([df_treino_x,df_treino_y])"
   ]
  },
  {
   "cell_type": "code",
   "execution_count": 38,
   "metadata": {},
   "outputs": [
    {
     "data": {
      "text/plain": [
       "(2731, 24)"
      ]
     },
     "execution_count": 38,
     "metadata": {},
     "output_type": "execute_result"
    }
   ],
   "source": [
    "df_treino_1.shape"
   ]
  },
  {
   "cell_type": "code",
   "execution_count": 39,
   "metadata": {},
   "outputs": [],
   "source": [
    "# Coletando 80% da Base para Treino\n",
    "\n",
    "df_treino = df_treino_1.sample(frac=0.8)"
   ]
  },
  {
   "cell_type": "code",
   "execution_count": 40,
   "metadata": {},
   "outputs": [],
   "source": [
    "# Reservando 20% da Base para Teste \n",
    "\n",
    "df_treino['flag 20%'] = 1"
   ]
  },
  {
   "cell_type": "code",
   "execution_count": 41,
   "metadata": {},
   "outputs": [],
   "source": [
    "df_20p = df_treino[['Id','flag 20%']]"
   ]
  },
  {
   "cell_type": "code",
   "execution_count": 42,
   "metadata": {},
   "outputs": [],
   "source": [
    "df_teste = df_treino_1.merge(df_20p,how='left')\n",
    "df_teste = df_teste[df_teste['flag 20%'].isna()]"
   ]
  },
  {
   "cell_type": "code",
   "execution_count": 43,
   "metadata": {},
   "outputs": [
    {
     "name": "stdout",
     "output_type": "stream",
     "text": [
      "(2185, 25) (546, 25)\n"
     ]
    }
   ],
   "source": [
    "print(df_treino.shape,df_teste.shape)"
   ]
  },
  {
   "cell_type": "markdown",
   "metadata": {},
   "source": [
    "<b> TREINAMENTO DO MODELO (80% DA BASE)"
   ]
  },
  {
   "cell_type": "code",
   "execution_count": 44,
   "metadata": {},
   "outputs": [],
   "source": [
    "# Criando a Base para Treino apenas com as variáveis que importam (Flag Matriculado é o Y)\n",
    "\n",
    "df_treino = df_treino[['Age','p_PhoneNumberbool','p_CityType','p_UF','p_SocialClass','p_SchoolYear','p_conversao','Flag_Matriculado']]"
   ]
  },
  {
   "cell_type": "markdown",
   "metadata": {},
   "source": [
    "SEPARANDO X DE Y"
   ]
  },
  {
   "cell_type": "code",
   "execution_count": 45,
   "metadata": {},
   "outputs": [],
   "source": [
    "n_features = len(df_treino.columns)-1\n",
    "\n",
    "X = np.array(df_treino.drop('Flag_Matriculado',1))\n",
    "y = df_treino.iloc[:,n_features:n_features+1].values"
   ]
  },
  {
   "cell_type": "markdown",
   "metadata": {},
   "source": [
    "ARMAZENANDO NA MEMÓRIA OS DADOS DE MÉDIA E DESVIO PADRÃO ANTES DO STANDARSCALLER"
   ]
  },
  {
   "cell_type": "code",
   "execution_count": 46,
   "metadata": {},
   "outputs": [],
   "source": [
    "mean = X.mean(axis=0)\n",
    "std = X.std(axis=0)"
   ]
  },
  {
   "cell_type": "markdown",
   "metadata": {},
   "source": [
    "PADRONIZAÇÃO DOS DADOS"
   ]
  },
  {
   "cell_type": "code",
   "execution_count": 47,
   "metadata": {},
   "outputs": [],
   "source": [
    "from sklearn.preprocessing import StandardScaler\n",
    "scaler = StandardScaler()"
   ]
  },
  {
   "cell_type": "code",
   "execution_count": 48,
   "metadata": {},
   "outputs": [],
   "source": [
    "scaler.fit(X)\n",
    "X = scaler.transform(X)"
   ]
  },
  {
   "cell_type": "markdown",
   "metadata": {},
   "source": [
    "CRIANDO X0 PARA VALORES =1"
   ]
  },
  {
   "cell_type": "code",
   "execution_count": 49,
   "metadata": {},
   "outputs": [],
   "source": [
    "def insert_ones(X):\n",
    "    ones = np.ones([X.shape[0],1])\n",
    "    return np.concatenate((ones,X),axis=1)"
   ]
  },
  {
   "cell_type": "markdown",
   "metadata": {},
   "source": [
    "CRIANDO UM VETOR DE W's BASEADO NA QUANTIDADE DE FEATURES"
   ]
  },
  {
   "cell_type": "code",
   "execution_count": 50,
   "metadata": {},
   "outputs": [
    {
     "data": {
      "text/plain": [
       "array([[0.76503613, 0.9938334 , 0.98234464, 0.96433983, 0.12220914,\n",
       "        0.11594991, 0.85256193, 0.4143758 ]])"
      ]
     },
     "execution_count": 50,
     "metadata": {},
     "output_type": "execute_result"
    }
   ],
   "source": [
    "w = np.random.rand(1,n_features+1) ## valores entre 0 e 1\n",
    "w"
   ]
  },
  {
   "cell_type": "markdown",
   "metadata": {},
   "source": [
    "SIGMOID"
   ]
  },
  {
   "cell_type": "code",
   "execution_count": 51,
   "metadata": {},
   "outputs": [],
   "source": [
    "def sigmoid(z):\n",
    "    return 1 / ( 1 + np.exp(-z))"
   ]
  },
  {
   "cell_type": "markdown",
   "metadata": {},
   "source": [
    "SIMULANDO A SIGMOID"
   ]
  },
  {
   "cell_type": "code",
   "execution_count": 52,
   "metadata": {},
   "outputs": [
    {
     "data": {
      "text/plain": [
       "[<matplotlib.lines.Line2D at 0x184805cbb70>]"
      ]
     },
     "execution_count": 52,
     "metadata": {},
     "output_type": "execute_result"
    },
    {
     "data": {
      "image/png": "[encoded data removed]",
      "text/plain": [
       "<Figure size 432x288 with 1 Axes>"
      ]
     },
     "metadata": {
      "needs_background": "light"
     },
     "output_type": "display_data"
    }
   ],
   "source": [
    "nums = np.arange(-10, 10, step=1) ## criando uma distribuição entre -10 e 10\n",
    "\n",
    "## plotando \n",
    "fig, ax = plt.subplots(figsize=(6,4))  \n",
    "ax.plot(nums, sigmoid(nums), 'r')"
   ]
  },
  {
   "cell_type": "markdown",
   "metadata": {},
   "source": [
    "BINARY CROSS ENTROPY: -y log (y^) - (1-y) log(1-y^)"
   ]
  },
  {
   "cell_type": "code",
   "execution_count": 53,
   "metadata": {},
   "outputs": [],
   "source": [
    "\n",
    "def binary_cross_entropy(w, X, y):    \n",
    "    \n",
    "    m = len(X)\n",
    "    \n",
    "    parte1 = np.multiply(-y, np.log(sigmoid(X @ w.T)))\n",
    "    parte2 = np.multiply((1 - y), np.log(1 - sigmoid(X @ w.T)))\n",
    "    \n",
    "    somatorio = np.sum(parte1 - parte2)\n",
    "    \n",
    "    return  somatorio/m"
   ]
  },
  {
   "cell_type": "markdown",
   "metadata": {},
   "source": [
    "GRADIENT DESCENDENT\n"
   ]
  },
  {
   "cell_type": "code",
   "execution_count": 54,
   "metadata": {},
   "outputs": [],
   "source": [
    "\n",
    "def gradient_descent(w,X,y,alpha,epoch):\n",
    "    cost = np.zeros(epoch)\n",
    "    for i in range(epoch):\n",
    "        w = w - (alpha/len(X)) * np.sum((sigmoid(X @ w.T) - y)*X, axis=0)\n",
    "        cost[i] = binary_cross_entropy(w, X, y)\n",
    "    \n",
    "    return w,cost"
   ]
  },
  {
   "cell_type": "markdown",
   "metadata": {},
   "source": [
    "TREINAMENTO"
   ]
  },
  {
   "cell_type": "code",
   "execution_count": 55,
   "metadata": {},
   "outputs": [],
   "source": [
    "X = insert_ones(X)"
   ]
  },
  {
   "cell_type": "code",
   "execution_count": 56,
   "metadata": {},
   "outputs": [],
   "source": [
    "alpha= 0.01 # taxa de aprendizado\n",
    "epoch = 1000"
   ]
  },
  {
   "cell_type": "code",
   "execution_count": 57,
   "metadata": {},
   "outputs": [],
   "source": [
    "w, cost = gradient_descent(w, X, y, alpha, epoch)"
   ]
  },
  {
   "cell_type": "code",
   "execution_count": 58,
   "metadata": {},
   "outputs": [
    {
     "data": {
      "text/plain": [
       "Text(0.5, 1.0, 'Erro vs. Epoch')"
      ]
     },
     "execution_count": 58,
     "metadata": {},
     "output_type": "execute_result"
    },
    {
     "data": {
      "image/png": "[encoded data removed]",
      "text/plain": [
       "<Figure size 432x288 with 1 Axes>"
      ]
     },
     "metadata": {
      "needs_background": "light"
     },
     "output_type": "display_data"
    }
   ],
   "source": [
    "fig, ax = plt.subplots()  \n",
    "ax.plot(np.arange(epoch), cost, 'r')  \n",
    "ax.set_xlabel('Iterações')  \n",
    "ax.set_ylabel('Custo')  \n",
    "ax.set_title('Erro vs. Epoch')"
   ]
  },
  {
   "cell_type": "code",
   "execution_count": 59,
   "metadata": {},
   "outputs": [
    {
     "data": {
      "text/plain": [
       "array([[0.09965616, 0.49531536, 0.73972207, 0.33030323, 0.12158234,\n",
       "        0.03462186, 1.33848269, 0.54770479]])"
      ]
     },
     "execution_count": 59,
     "metadata": {},
     "output_type": "execute_result"
    }
   ],
   "source": [
    "w"
   ]
  },
  {
   "cell_type": "markdown",
   "metadata": {},
   "source": [
    "<b> TESTE DO MODELO (20% DA BASE)"
   ]
  },
  {
   "cell_type": "markdown",
   "metadata": {},
   "source": [
    "APLICAÇÃO"
   ]
  },
  {
   "cell_type": "code",
   "execution_count": 60,
   "metadata": {},
   "outputs": [
    {
     "data": {
      "text/html": [
       "<div>\n",
       "<style scoped>\n",
       "    .dataframe tbody tr th:only-of-type {\n",
       "        vertical-align: middle;\n",
       "    }\n",
       "\n",
       "    .dataframe tbody tr th {\n",
       "        vertical-align: top;\n",
       "    }\n",
       "\n",
       "    .dataframe thead th {\n",
       "        text-align: right;\n",
       "    }\n",
       "</style>\n",
       "<table border=\"1\" class=\"dataframe\">\n",
       "  <thead>\n",
       "    <tr style=\"text-align: right;\">\n",
       "      <th></th>\n",
       "      <th>Id</th>\n",
       "      <th>Age</th>\n",
       "      <th>CityId</th>\n",
       "      <th>date</th>\n",
       "      <th>Email</th>\n",
       "      <th>PhoneNumber</th>\n",
       "      <th>SocialClassId</th>\n",
       "      <th>SchoolYear</th>\n",
       "      <th>Flag_Matriculado</th>\n",
       "      <th>CityName</th>\n",
       "      <th>...</th>\n",
       "      <th>v_UF</th>\n",
       "      <th>v_SocialClassId</th>\n",
       "      <th>v_SchoolYear</th>\n",
       "      <th>p_PhoneNumberbool</th>\n",
       "      <th>p_CityType</th>\n",
       "      <th>p_UF</th>\n",
       "      <th>p_SocialClass</th>\n",
       "      <th>p_SchoolYear</th>\n",
       "      <th>p_conversao</th>\n",
       "      <th>flag 20%</th>\n",
       "    </tr>\n",
       "  </thead>\n",
       "  <tbody>\n",
       "    <tr>\n",
       "      <th>222</th>\n",
       "      <td>143880e1-6597-4ce4-b711-40da7adf8c48</td>\n",
       "      <td>18</td>\n",
       "      <td>2754.0</td>\n",
       "      <td>2017-03-28</td>\n",
       "      <td>rayaneassisc@gmail.com</td>\n",
       "      <td>0</td>\n",
       "      <td>C</td>\n",
       "      <td>Outros</td>\n",
       "      <td>1.0</td>\n",
       "      <td>Belo Horizonte</td>\n",
       "      <td>...</td>\n",
       "      <td>10</td>\n",
       "      <td>3.0</td>\n",
       "      <td>0</td>\n",
       "      <td>0.099937</td>\n",
       "      <td>0.274041</td>\n",
       "      <td>0.134507</td>\n",
       "      <td>0.542435</td>\n",
       "      <td>0.449403</td>\n",
       "      <td>0.002643</td>\n",
       "      <td>NaN</td>\n",
       "    </tr>\n",
       "    <tr>\n",
       "      <th>1800</th>\n",
       "      <td>48e09106-abdf-45b5-8b2a-f8275e0c417a</td>\n",
       "      <td>17</td>\n",
       "      <td>6848.0</td>\n",
       "      <td>2017-04-04</td>\n",
       "      <td>hingredy_soares@hotmail.com</td>\n",
       "      <td>0</td>\n",
       "      <td>D</td>\n",
       "      <td>Outros</td>\n",
       "      <td>0.0</td>\n",
       "      <td>Araruama</td>\n",
       "      <td>...</td>\n",
       "      <td>19</td>\n",
       "      <td>2.0</td>\n",
       "      <td>0</td>\n",
       "      <td>0.099937</td>\n",
       "      <td>0.333752</td>\n",
       "      <td>0.047140</td>\n",
       "      <td>0.377860</td>\n",
       "      <td>0.449403</td>\n",
       "      <td>0.000834</td>\n",
       "      <td>NaN</td>\n",
       "    </tr>\n",
       "    <tr>\n",
       "      <th>2</th>\n",
       "      <td>523752d9-9973-44aa-b106-bd3beab795a9</td>\n",
       "      <td>18</td>\n",
       "      <td>2538.0</td>\n",
       "      <td>2017-11-20</td>\n",
       "      <td>lilianraquel345@gmail.com</td>\n",
       "      <td>(98) 99184-5725</td>\n",
       "      <td>D</td>\n",
       "      <td>Outros</td>\n",
       "      <td>1.0</td>\n",
       "      <td>Pinheiro</td>\n",
       "      <td>...</td>\n",
       "      <td>9</td>\n",
       "      <td>2.0</td>\n",
       "      <td>0</td>\n",
       "      <td>0.900063</td>\n",
       "      <td>0.333752</td>\n",
       "      <td>0.020742</td>\n",
       "      <td>0.377860</td>\n",
       "      <td>0.449403</td>\n",
       "      <td>0.002983</td>\n",
       "      <td>NaN</td>\n",
       "    </tr>\n",
       "    <tr>\n",
       "      <th>1882</th>\n",
       "      <td>11b3efab-8079-468d-8bd4-37476a5fab8d</td>\n",
       "      <td>17</td>\n",
       "      <td>6873.0</td>\n",
       "      <td>2019-06-05</td>\n",
       "      <td>yasminsancf@hotmail.com</td>\n",
       "      <td>(22) 99952-7445</td>\n",
       "      <td>C</td>\n",
       "      <td>3º ano - Ens. Médio</td>\n",
       "      <td>0.0</td>\n",
       "      <td>Cabo Frio</td>\n",
       "      <td>...</td>\n",
       "      <td>19</td>\n",
       "      <td>3.0</td>\n",
       "      <td>4</td>\n",
       "      <td>0.900063</td>\n",
       "      <td>0.333752</td>\n",
       "      <td>0.047140</td>\n",
       "      <td>0.542435</td>\n",
       "      <td>0.012571</td>\n",
       "      <td>0.000834</td>\n",
       "      <td>NaN</td>\n",
       "    </tr>\n",
       "    <tr>\n",
       "      <th>1867</th>\n",
       "      <td>01a04a1c-0a8e-4fb0-8157-0a2ea4afbbb4</td>\n",
       "      <td>19</td>\n",
       "      <td>988.0</td>\n",
       "      <td>2018-02-02</td>\n",
       "      <td>musicislifebl@gmail.com</td>\n",
       "      <td>(71) 98701-8719</td>\n",
       "      <td>C</td>\n",
       "      <td>Outros</td>\n",
       "      <td>0.0</td>\n",
       "      <td>Salvador</td>\n",
       "      <td>...</td>\n",
       "      <td>4</td>\n",
       "      <td>3.0</td>\n",
       "      <td>0</td>\n",
       "      <td>0.900063</td>\n",
       "      <td>0.274041</td>\n",
       "      <td>0.068510</td>\n",
       "      <td>0.542435</td>\n",
       "      <td>0.449403</td>\n",
       "      <td>0.002799</td>\n",
       "      <td>NaN</td>\n",
       "    </tr>\n",
       "  </tbody>\n",
       "</table>\n",
       "<p>5 rows × 25 columns</p>\n",
       "</div>"
      ],
      "text/plain": [
       "                                        Id  Age  CityId        date  \\\n",
       "222   143880e1-6597-4ce4-b711-40da7adf8c48   18  2754.0  2017-03-28   \n",
       "1800  48e09106-abdf-45b5-8b2a-f8275e0c417a   17  6848.0  2017-04-04   \n",
       "2     523752d9-9973-44aa-b106-bd3beab795a9   18  2538.0  2017-11-20   \n",
       "1882  11b3efab-8079-468d-8bd4-37476a5fab8d   17  6873.0  2019-06-05   \n",
       "1867  01a04a1c-0a8e-4fb0-8157-0a2ea4afbbb4   19   988.0  2018-02-02   \n",
       "\n",
       "                            Email      PhoneNumber SocialClassId  \\\n",
       "222        rayaneassisc@gmail.com                0             C   \n",
       "1800  hingredy_soares@hotmail.com                0             D   \n",
       "2       lilianraquel345@gmail.com  (98) 99184-5725             D   \n",
       "1882      yasminsancf@hotmail.com  (22) 99952-7445             C   \n",
       "1867      musicislifebl@gmail.com  (71) 98701-8719             C   \n",
       "\n",
       "               SchoolYear  Flag_Matriculado        CityName  ... v_UF  \\\n",
       "222                Outros               1.0  Belo Horizonte  ...   10   \n",
       "1800               Outros               0.0        Araruama  ...   19   \n",
       "2                  Outros               1.0        Pinheiro  ...    9   \n",
       "1882  3º ano - Ens. Médio               0.0       Cabo Frio  ...   19   \n",
       "1867               Outros               0.0        Salvador  ...    4   \n",
       "\n",
       "     v_SocialClassId  v_SchoolYear  p_PhoneNumberbool  p_CityType      p_UF  \\\n",
       "222              3.0             0           0.099937    0.274041  0.134507   \n",
       "1800             2.0             0           0.099937    0.333752  0.047140   \n",
       "2                2.0             0           0.900063    0.333752  0.020742   \n",
       "1882             3.0             4           0.900063    0.333752  0.047140   \n",
       "1867             3.0             0           0.900063    0.274041  0.068510   \n",
       "\n",
       "      p_SocialClass  p_SchoolYear  p_conversao  flag 20%  \n",
       "222        0.542435      0.449403     0.002643       NaN  \n",
       "1800       0.377860      0.449403     0.000834       NaN  \n",
       "2          0.377860      0.449403     0.002983       NaN  \n",
       "1882       0.542435      0.012571     0.000834       NaN  \n",
       "1867       0.542435      0.449403     0.002799       NaN  \n",
       "\n",
       "[5 rows x 25 columns]"
      ]
     },
     "execution_count": 60,
     "metadata": {},
     "output_type": "execute_result"
    }
   ],
   "source": [
    "df_teste.sort_values('p_PhoneNumberbool',ascending=True).head(5)"
   ]
  },
  {
   "cell_type": "code",
   "execution_count": 61,
   "metadata": {},
   "outputs": [],
   "source": [
    "def predict(w, X, threshold=0.5):\n",
    "    p = sigmoid(X @ w.T) >= threshold\n",
    "    return (p.astype('int'))"
   ]
  },
  {
   "cell_type": "code",
   "execution_count": 62,
   "metadata": {},
   "outputs": [],
   "source": [
    "# Salvando os resultados do Treino\n",
    "\n",
    "teste = np.array(df_teste[['Age','p_PhoneNumberbool','p_CityType','p_UF','p_SocialClass','p_SchoolYear','p_conversao']])\n",
    "teste = (teste-mean)/std\n",
    "teste = insert_ones(teste)"
   ]
  },
  {
   "cell_type": "code",
   "execution_count": 63,
   "metadata": {},
   "outputs": [],
   "source": [
    "df_teste['LeadScore'] = sigmoid(teste@ w.T)"
   ]
  },
  {
   "cell_type": "code",
   "execution_count": 64,
   "metadata": {},
   "outputs": [],
   "source": [
    "#predict(w, Lead1)"
   ]
  },
  {
   "cell_type": "code",
   "execution_count": 65,
   "metadata": {},
   "outputs": [],
   "source": [
    "df_teste.to_csv('teste.csv',sep=';')"
   ]
  },
  {
   "cell_type": "markdown",
   "metadata": {},
   "source": [
    "# CRIANDO O LEAD SCORE PARA TODA A BASE"
   ]
  },
  {
   "cell_type": "code",
   "execution_count": 66,
   "metadata": {},
   "outputs": [],
   "source": [
    "final = np.array(df[['Age','p_PhoneNumberbool','p_CityType','p_UF','p_SocialClass','p_SchoolYear','p_conversao']])\n",
    "final = (final-mean)/std\n",
    "final = insert_ones(final)"
   ]
  },
  {
   "cell_type": "code",
   "execution_count": 67,
   "metadata": {},
   "outputs": [],
   "source": [
    "df['LeadScore'] = sigmoid(final@ w.T)"
   ]
  },
  {
   "cell_type": "code",
   "execution_count": 79,
   "metadata": {},
   "outputs": [],
   "source": [
    "df['LeadScore_Faixa'] = df['LeadScore'].round(1)"
   ]
  },
  {
   "cell_type": "markdown",
   "metadata": {},
   "source": [
    "# ANÁLISE DO LEAD SCORE"
   ]
  },
  {
   "cell_type": "code",
   "execution_count": 81,
   "metadata": {},
   "outputs": [],
   "source": [
    "conversao_ls = df.groupby('LeadScore_Faixa').agg({'Id':'count','Flag_Matriculado':'sum'}).reset_index()"
   ]
  },
  {
   "cell_type": "code",
   "execution_count": 87,
   "metadata": {},
   "outputs": [],
   "source": [
    "conversao_ls['percent_conversao'] = conversao_ls['Flag_Matriculado']/conversao_ls['Id']*100"
   ]
  },
  {
   "cell_type": "code",
   "execution_count": 95,
   "metadata": {},
   "outputs": [
    {
     "name": "stdout",
     "output_type": "stream",
     "text": [
      "(1355, 26) (539757, 26)\n"
     ]
    }
   ],
   "source": [
    "matriculado = df[df['Flag_Matriculado']==1]\n",
    "n_matriculado = df[df['Flag_Matriculado']==0]\n",
    "print(matriculado.shape,n_matriculado.shape)"
   ]
  },
  {
   "cell_type": "code",
   "execution_count": 101,
   "metadata": {},
   "outputs": [
    {
     "data": {
      "image/png": "[encoded data removed]",
      "text/plain": [
       "<Figure size 1440x360 with 3 Axes>"
      ]
     },
     "metadata": {
      "needs_background": "light"
     },
     "output_type": "display_data"
    }
   ],
   "source": [
    "fig, axes = plt.subplots(1,3,sharey=False, sharex=False,figsize=(20,5))\n",
    "axes[0].hist(matriculado['LeadScore'], color='b', label='Freq', alpha=0.5)\n",
    "axes[0].legend(loc='best')\n",
    "axes[0].set_title('LeadScore - Matriculados')\n",
    "                         \n",
    "axes[1].hist(n_matriculado['LeadScore'], color='r', label='Freq', alpha=0.5)\n",
    "axes[1].legend(loc='best')\n",
    "axes[1].set_title('LeadScore - Não Matriculados') ;  \n",
    "\n",
    "axes[2].plot(conversao_ls['percent_conversao'], color='orange',label='tx conversao', marker='o')\n",
    "axes[2].legend(loc='best')\n",
    "axes[2].set_title('Conversao por LeadScore');"
   ]
  },
  {
   "cell_type": "code",
   "execution_count": 70,
   "metadata": {},
   "outputs": [
    {
     "name": "stderr",
     "output_type": "stream",
     "text": [
      "C:\\Users\\Rodrigo\\Anaconda3\\lib\\site-packages\\ipykernel_launcher.py:1: SettingWithCopyWarning: \n",
      "A value is trying to be set on a copy of a slice from a DataFrame.\n",
      "Try using .loc[row_indexer,col_indexer] = value instead\n",
      "\n",
      "See the caveats in the documentation: http://pandas.pydata.org/pandas-docs/stable/indexing.html#indexing-view-versus-copy\n",
      "  \"\"\"Entry point for launching an IPython kernel.\n",
      "C:\\Users\\Rodrigo\\Anaconda3\\lib\\site-packages\\ipykernel_launcher.py:2: SettingWithCopyWarning: \n",
      "A value is trying to be set on a copy of a slice from a DataFrame.\n",
      "Try using .loc[row_indexer,col_indexer] = value instead\n",
      "\n",
      "See the caveats in the documentation: http://pandas.pydata.org/pandas-docs/stable/indexing.html#indexing-view-versus-copy\n",
      "  \n"
     ]
    }
   ],
   "source": [
    "matriculado['LeadScore_Faixa'] = matriculado['LeadScore'].round(1)\n",
    "n_matriculado['LeadScore_Faixa'] = n_matriculado['LeadScore'].round(1)"
   ]
  },
  {
   "cell_type": "code",
   "execution_count": 71,
   "metadata": {},
   "outputs": [],
   "source": [
    "matriculado = matriculado.groupby('LeadScore_Faixa').agg({'Id':'count'}).reset_index()"
   ]
  },
  {
   "cell_type": "code",
   "execution_count": 72,
   "metadata": {},
   "outputs": [],
   "source": [
    "matriculado['Total'] = matriculado['Id'].sum()"
   ]
  },
  {
   "cell_type": "code",
   "execution_count": 73,
   "metadata": {},
   "outputs": [],
   "source": [
    "matriculado['percent'] = matriculado['Id']/matriculado['Total']"
   ]
  },
  {
   "cell_type": "code",
   "execution_count": 74,
   "metadata": {},
   "outputs": [],
   "source": [
    "n_matriculado = n_matriculado.groupby('LeadScore_Faixa').agg({'Id':'count'}).reset_index()"
   ]
  },
  {
   "cell_type": "code",
   "execution_count": 75,
   "metadata": {},
   "outputs": [],
   "source": [
    "n_matriculado['Total'] = n_matriculado['Id'].sum()"
   ]
  },
  {
   "cell_type": "code",
   "execution_count": 76,
   "metadata": {},
   "outputs": [],
   "source": [
    "n_matriculado['percent'] = n_matriculado['Id']/n_matriculado['Total']"
   ]
  },
  {
   "cell_type": "code",
   "execution_count": 77,
   "metadata": {},
   "outputs": [],
   "source": [
    "x = ['LS 0','LS 1','LS 2','LS 3','LS 4','LS 5','LS 6','LS 7','LS 8','LS 9','LS 10']\n",
    "y = np.array(matriculado['percent'])\n",
    "z =np.array(n_matriculado['percent'])"
   ]
  },
  {
   "cell_type": "code",
   "execution_count": 104,
   "metadata": {},
   "outputs": [
    {
     "data": {
      "image/png": "[encoded data removed]",
      "text/plain": [
       "<Figure size 1440x360 with 1 Axes>"
      ]
     },
     "metadata": {
      "needs_background": "light"
     },
     "output_type": "display_data"
    }
   ],
   "source": [
    "fig, axes = plt.subplots(figsize=(20,5))\n",
    "axes.bar(x,y, color='b', label='Matriculados',alpha=0.5)\n",
    "axes.bar(x,z, color='r', label='Não Matriculados',alpha=0.5)\n",
    "axes.plot(x,conversao_ls['percent_conversao'], label='Tx de Conversao',marker='o',color='orange')\n",
    "axes.legend(loc='best')\n",
    "axes.set_title('LeadScore - Matriculados vs Nao Matriculados');"
   ]
  },
  {
   "cell_type": "code",
   "execution_count": null,
   "metadata": {},
   "outputs": [],
   "source": []
  }
 ],
 "metadata": {
  "kernelspec": {
   "display_name": "Python 3",
   "language": "python",
   "name": "python3"
  },
  "language_info": {
   "codemirror_mode": {
    "name": "ipython",
    "version": 3
   },
   "file_extension": ".py",
   "mimetype": "text/x-python",
   "name": "python",
   "nbconvert_exporter": "python",
   "pygments_lexer": "ipython3",
   "version": "3.7.3"
  }
 },
 "nbformat": 4,
 "nbformat_minor": 2
}
