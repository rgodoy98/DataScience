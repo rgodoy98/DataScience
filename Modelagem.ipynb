{
 "cells": [
  {
   "cell_type": "markdown",
   "metadata": {},
   "source": [
    "<b> Import das Bibliotecas Necessárias Para Análise"
   ]
  },
  {
   "cell_type": "code",
   "execution_count": 73,
   "metadata": {},
   "outputs": [],
   "source": [
    "import pandas as pd\n",
    "import numpy as np\n",
    "import matplotlib.pyplot as plt\n",
    "from sklearn.preprocessing import LabelEncoder\n",
    "import math\n",
    "from sklearn.preprocessing import StandardScaler\n",
    "import statsmodels.api as sm"
   ]
  },
  {
   "cell_type": "markdown",
   "metadata": {},
   "source": [
    "<b> Análise dos Determinantes de Renda dos LGBTs na Economia Brasileira (Base de Dados Grupo Dignidade)\n",
    "    \n",
    "    Problemática: \n",
    "\n",
    "\n",
    "<b> Tratamento da Base de Dados"
   ]
  },
  {
   "cell_type": "code",
   "execution_count": 2,
   "metadata": {},
   "outputs": [],
   "source": [
    "# Leitura dos Dados fornecidos pelo Grupo Dignidade\n",
    "\n",
    "df = pd.read_excel(r\".\\Dados.xlsx\")"
   ]
  },
  {
   "cell_type": "code",
   "execution_count": 3,
   "metadata": {},
   "outputs": [],
   "source": [
    "# Tratamento dos nomes dos campos\n",
    "\n",
    "df = df.rename(columns={\n",
    "    'Qual sua idade?':'Idade',\n",
    "    'Em qual Estado você mora?': 'Estado',\n",
    "    'Qual seu nível de escolaridade?':'Escolaridade',\n",
    "    'Qual seu Estado Civil?':'Estado Civil',\n",
    "    'Como você se autodeclara étnica/racialmente?':'Etnia/Cor',\n",
    "    'Qual sua identidade de gênero?':'Gênero',\n",
    "    'Qual sua orientação sexual?':'Sexualidade',\n",
    "    'Com quem você mora?': 'Status Moradia',\n",
    "    'Qual sua idade?':'Idade',\n",
    "    'Somando sua renda com a renda das pessoas que moram com você, quanto é, aproximadamente, a renda familiar?':'Renda'})\n",
    "    "
   ]
  },
  {
   "cell_type": "code",
   "execution_count": 4,
   "metadata": {},
   "outputs": [],
   "source": [
    "# Mantendo apenas as variáveis que realmente importam \n",
    "\n",
    "df = df[['Sexualidade','Gênero','Idade','Status Moradia','Estado','Estado Civil','Etnia/Cor','Escolaridade','Renda']]"
   ]
  },
  {
   "cell_type": "code",
   "execution_count": 5,
   "metadata": {},
   "outputs": [
    {
     "name": "stdout",
     "output_type": "stream",
     "text": [
      "Total de Pessoas na Base: 8992\n",
      "\n",
      "Total de Heterossexuais cisgêneros na Base: 74\n"
     ]
    }
   ],
   "source": [
    "# Contabilização \n",
    "\n",
    "print('Total de Pessoas na Base:',df['Sexualidade'].count())\n",
    "print()\n",
    "print('Total de Heterossexuais cisgêneros na Base:',df[(df['Sexualidade']=='Heterossexual')&((df['Gênero']=='Homem cis')|(df['Gênero']=='Mulher cis'))]['Sexualidade'].count())"
   ]
  },
  {
   "cell_type": "code",
   "execution_count": 6,
   "metadata": {},
   "outputs": [
    {
     "name": "stdout",
     "output_type": "stream",
     "text": [
      "Total de Pessoas na Base, sem Hetero cis: 8918\n"
     ]
    }
   ],
   "source": [
    "# Removendo os Heterossexuais cisgêneros da Base\n",
    "\n",
    "df = df[~((df['Sexualidade']=='Heterossexual')&((df['Gênero']=='Homem cis')|(df['Gênero']=='Mulher cis')))]\n",
    "print('Total de Pessoas na Base, sem Hetero cis:',df['Sexualidade'].count())"
   ]
  },
  {
   "cell_type": "markdown",
   "metadata": {},
   "source": [
    "<b> Convertendo para Variáveis Nominais"
   ]
  },
  {
   "cell_type": "code",
   "execution_count": 7,
   "metadata": {},
   "outputs": [],
   "source": [
    "# Transformando em Nominal\n",
    "\n",
    "gle = LabelEncoder()\n",
    "\n",
    "c_estadocivil_labels = gle.fit_transform(df['Estado Civil'])\n",
    "c_estadocivil_mappings = {index: label for index, label in \n",
    "                  enumerate(gle.classes_)}\n",
    "\n",
    "c_uf_labels = gle.fit_transform(df['Estado'])\n",
    "c_uf_mappings = {index: label for index, label in \n",
    "                  enumerate(gle.classes_)}\n",
    "\n",
    "c_etnia_labels = gle.fit_transform(df['Etnia/Cor'])\n",
    "c_etnia_mappings = {index: label for index, label in \n",
    "                  enumerate(gle.classes_)}\n",
    "\n",
    "c_moradia_labels = gle.fit_transform(df['Status Moradia'])\n",
    "c_moradia_mappings = {index: label for index, label in \n",
    "                  enumerate(gle.classes_)}\n",
    "\n",
    "c_sexualidade_labels = gle.fit_transform(df['Sexualidade'])\n",
    "c_sexualidade_mappings = {index: label for index, label in \n",
    "                  enumerate(gle.classes_)}\n",
    "\n",
    "c_genero_labels = gle.fit_transform(df['Gênero'])\n",
    "c_genero_mappings = {index: label for index, label in \n",
    "                  enumerate(gle.classes_)}"
   ]
  },
  {
   "cell_type": "markdown",
   "metadata": {},
   "source": [
    "<b> Convertendo para Variáveis Ordinais"
   ]
  },
  {
   "cell_type": "code",
   "execution_count": 8,
   "metadata": {},
   "outputs": [],
   "source": [
    "# Criando os Campos Equivalentes \n",
    "\n",
    "df['c_estadocivil'] = c_estadocivil_labels\n",
    "df['c_uf'] = c_uf_labels\n",
    "df['c_etnia'] = c_etnia_labels\n",
    "df['c_moradia'] = c_moradia_labels\n",
    "df['c_sexualidade'] = c_sexualidade_labels\n",
    "df['c_genero'] = c_genero_labels"
   ]
  },
  {
   "cell_type": "code",
   "execution_count": 9,
   "metadata": {},
   "outputs": [],
   "source": [
    "# Atribuindo Ordinais a Renda (Lembrando que não é Linear)\n",
    "renda_ord_map = {\n",
    "       'Nenhuma renda':1,\n",
    "       'Até 1/2 salário mínimo (até R$ 477,00 inclusive)':2,\n",
    "       'De 1/2 a 1 salário mínimo (até R$ 954,00 inclusive)':3,\n",
    "       'De 1 a 2 salários mínimos (de R$ 954,00 até R$ 1.908,00 inclusive)':4,\n",
    "       'De 2 a 3 salários mínimos (de R$ 1.908,00 até R$ 2.862,00 inclusive)':5,\n",
    "       'De 3 a 5 salários mínimos (de R$ 2.862,00 até R$ 4.770,00 inclusive)':6,\n",
    "       'De 5 a 10 salários mínimos (de R$ 4.770,00 até R$ 9.540,00 inclusive)':7,\n",
    "       'De 10 a 20 salários mínimos (de R$ 9.540,00 até R$ 19.080,00 inclusive)':8,\n",
    "       'De 20 a 30 salários mínimos (de R$ 19.080,00 até R$ 28.620,00 inclusive)':9,\n",
    "       'Mais de 30 salários mínimos (mais de R$ 28.620,00)':10,\n",
    "       }"
   ]
  },
  {
   "cell_type": "code",
   "execution_count": 10,
   "metadata": {},
   "outputs": [],
   "source": [
    "df['c_renda'] = df['Renda'].map(renda_ord_map)"
   ]
  },
  {
   "cell_type": "code",
   "execution_count": 11,
   "metadata": {},
   "outputs": [],
   "source": [
    "# Ordenando Escolaridade \n",
    "\n",
    "escolaridade_ord_map = {\n",
    "    \n",
    "       'Pós-Doutorado Completo':15, \n",
    "       'Pós-Doutorado Incompleto':14,\n",
    "       'Doutorado Completo':13, \n",
    "       'Doutorado Incompleto':12,\n",
    "       'Mestrado Completo':11, \n",
    "       'Mestrado Incompleto':10,\n",
    "       'Especialização Completa':9, \n",
    "       'Especialização Incompleta':8,\n",
    "       'Ensino Superior Completo':7, \n",
    "       'Ensino Superior Incompleto':6,\n",
    "       'Ensino Técnico Completo':5, \n",
    "       'Ensino Técnico Incompleto':4,\n",
    "       'Ensino Médio Completo':3, \n",
    "       'Ensino Médio Incompleto':2,\n",
    "       'Ensino Fundamental Completo':1, \n",
    "       'Ensino Fundamental Incompleto':0\n",
    "                        }"
   ]
  },
  {
   "cell_type": "code",
   "execution_count": 12,
   "metadata": {},
   "outputs": [],
   "source": [
    "df['c_escolaridade'] = df['Escolaridade'].map(escolaridade_ord_map)"
   ]
  },
  {
   "cell_type": "code",
   "execution_count": 13,
   "metadata": {},
   "outputs": [],
   "source": [
    "# Ordenando Idade\n",
    "\n",
    "age_ord_map = {\n",
    "    \n",
    "       '70 anos ou mais':7, 'Entre 60 e 69 anos':6, 'Entre 50 e 59 anos':5, \n",
    "    'Entre 40 e 49 anos':4, 'Entre 30 e 39 anos':3, 'Entre 25 e 29 anos':2,\n",
    "    'Entre 20 e 24 anos':1, 'Entre 15 e 19 anos':0\n",
    "              }"
   ]
  },
  {
   "cell_type": "code",
   "execution_count": 14,
   "metadata": {},
   "outputs": [],
   "source": [
    "df['c_age'] = df['Idade'].map(age_ord_map)"
   ]
  },
  {
   "cell_type": "markdown",
   "metadata": {
    "lines_to_next_cell": 0
   },
   "source": [
    "<b> Construindo os DataFrames para: \"LGBT's Dependentes\" ; \"LGBT's Independentes\" ; \"LGBT's Independentes e com Cônjuge\" </b>\n",
    "\n",
    "    onde: LGBT's Dependentes moram com os pais, Independentes moram sozinhos/com amigos\n"
   ]
  },
  {
   "cell_type": "code",
   "execution_count": 15,
   "metadata": {},
   "outputs": [
    {
     "name": "stdout",
     "output_type": "stream",
     "text": [
      "LGBTs Dependentes:  5442\n"
     ]
    }
   ],
   "source": [
    "# Criação dos DataFrames\n",
    "\n",
    "df_lgbts_dependentes = df[(df['Status Moradia']=='Com pai(s) e/ou mãe(s) LGBTI+')|\n",
    "                          (df['Status Moradia']=='Com pai(s) e/ou mãe(s) heterossexuais')|\n",
    "                          (df['Status Moradia']=='Com parentes heterossexuais')|\n",
    "                          (df['Status Moradia']=='Com parentes LGBTI+')|\n",
    "                          (df['Status Moradia']=='Outra situação')]\n",
    "\n",
    "print('LGBTs Dependentes: ', df_lgbts_dependentes['Sexualidade'].count())"
   ]
  },
  {
   "cell_type": "code",
   "execution_count": 16,
   "metadata": {},
   "outputs": [
    {
     "name": "stdout",
     "output_type": "stream",
     "text": [
      "LGBTs Independentes:  2075\n"
     ]
    }
   ],
   "source": [
    "df_lgbts_independentes = df[(df['Status Moradia']=='Com colegas, amigas e/ou amigos LGBTI+')|\n",
    "                            (df['Status Moradia']=='Com colegas, amigas e/ou amigos heterossexuais')|\n",
    "                            (df['Status Moradia']=='Sozinha ou sozinho')]\n",
    "\n",
    "print('LGBTs Independentes: ',df_lgbts_independentes['Sexualidade'].count())"
   ]
  },
  {
   "cell_type": "code",
   "execution_count": 17,
   "metadata": {},
   "outputs": [
    {
     "name": "stdout",
     "output_type": "stream",
     "text": [
      "LGBTs Casados:  1401\n"
     ]
    }
   ],
   "source": [
    "df_lgbts_casados = df[(df['Status Moradia']=='Com companheira ou companheiro')|\n",
    "                      (df['Status Moradia']=='Com filha(s) ou filho(s)')]\n",
    "\n",
    "print('LGBTs Casados: ',df_lgbts_casados['Sexualidade'].count())"
   ]
  },
  {
   "cell_type": "code",
   "execution_count": 18,
   "metadata": {},
   "outputs": [
    {
     "name": "stderr",
     "output_type": "stream",
     "text": [
      "C:\\Users\\Rodrigo\\Anaconda3\\lib\\site-packages\\ipykernel_launcher.py:3: SettingWithCopyWarning: \n",
      "A value is trying to be set on a copy of a slice from a DataFrame.\n",
      "Try using .loc[row_indexer,col_indexer] = value instead\n",
      "\n",
      "See the caveats in the documentation: http://pandas.pydata.org/pandas-docs/stable/indexing.html#indexing-view-versus-copy\n",
      "  This is separate from the ipykernel package so we can avoid doing imports until\n",
      "C:\\Users\\Rodrigo\\Anaconda3\\lib\\site-packages\\ipykernel_launcher.py:4: SettingWithCopyWarning: \n",
      "A value is trying to be set on a copy of a slice from a DataFrame.\n",
      "Try using .loc[row_indexer,col_indexer] = value instead\n",
      "\n",
      "See the caveats in the documentation: http://pandas.pydata.org/pandas-docs/stable/indexing.html#indexing-view-versus-copy\n",
      "  after removing the cwd from sys.path.\n",
      "C:\\Users\\Rodrigo\\Anaconda3\\lib\\site-packages\\ipykernel_launcher.py:5: SettingWithCopyWarning: \n",
      "A value is trying to be set on a copy of a slice from a DataFrame.\n",
      "Try using .loc[row_indexer,col_indexer] = value instead\n",
      "\n",
      "See the caveats in the documentation: http://pandas.pydata.org/pandas-docs/stable/indexing.html#indexing-view-versus-copy\n",
      "  \"\"\"\n"
     ]
    }
   ],
   "source": [
    "# Criação dos Campos Segmentados\n",
    "\n",
    "df_lgbts_dependentes['Situacao'] = 'Dependente'\n",
    "df_lgbts_independentes['Situacao'] = 'Independente'\n",
    "df_lgbts_casados['Situacao'] = 'Casados'"
   ]
  },
  {
   "cell_type": "code",
   "execution_count": 19,
   "metadata": {},
   "outputs": [
    {
     "name": "stdout",
     "output_type": "stream",
     "text": [
      "A Relação entre Escolaridade e Renda é inconclusiva em ambos os casos (aprender a plotar boxplot)\n"
     ]
    },
    {
     "data": {
      "image/png": "[encoded data removed]",
      "text/plain": [
       "<Figure size 720x360 with 1 Axes>"
      ]
     },
     "metadata": {
      "needs_background": "light"
     },
     "output_type": "display_data"
    }
   ],
   "source": [
    "# Plot de Variação Renda / Escolaridade\n",
    "\n",
    "fig, ax = plt.subplots(figsize=(10,5))\n",
    "#ax.scatter(df_lgbts_dependentes['c_renda'],df_lgbts_dependentes['c_escolaridade'], s=50, c='b',marker='o',label='Dependentes')\n",
    "ax.scatter(df_lgbts_independentes['c_renda'],df_lgbts_independentes['c_escolaridade'], s=50, c='r',marker='x',label='Solteiros')\n",
    "ax.scatter(df_lgbts_casados['c_renda'],df_lgbts_casados['c_escolaridade'], s=50, c='b',marker='p',label='Casados')\n",
    "ax.legend(loc='best')\n",
    "ax.set_xlabel=('Renda')\n",
    "ax.set_ylabel=('Escolaridade')\n",
    "ax.set_title('Renda x Escolaridade');\n",
    "print('A Relação entre Escolaridade e Renda é inconclusiva em ambos os casos (aprender a plotar boxplot)')"
   ]
  },
  {
   "cell_type": "code",
   "execution_count": 20,
   "metadata": {},
   "outputs": [],
   "source": [
    "e0 = (df_lgbts_independentes[df_lgbts_independentes['c_escolaridade']==0]['c_renda'])\n",
    "e1 = (df_lgbts_independentes[df_lgbts_independentes['c_escolaridade']==1]['c_renda'])\n",
    "e2 = (df_lgbts_independentes[df_lgbts_independentes['c_escolaridade']==2]['c_renda'])\n",
    "e3 = (df_lgbts_independentes[df_lgbts_independentes['c_escolaridade']==3]['c_renda'])\n",
    "e4 = (df_lgbts_independentes[df_lgbts_independentes['c_escolaridade']==4]['c_renda'])\n",
    "e5 = (df_lgbts_independentes[df_lgbts_independentes['c_escolaridade']==5]['c_renda'])\n",
    "e6 = (df_lgbts_independentes[df_lgbts_independentes['c_escolaridade']==6]['c_renda'])\n",
    "e7 = (df_lgbts_independentes[df_lgbts_independentes['c_escolaridade']==7]['c_renda'])\n",
    "e8 = (df_lgbts_independentes[df_lgbts_independentes['c_escolaridade']==8]['c_renda'])\n",
    "e9 = (df_lgbts_independentes[df_lgbts_independentes['c_escolaridade']==9]['c_renda'])\n",
    "e10 = (df_lgbts_independentes[df_lgbts_independentes['c_escolaridade']==10]['c_renda'])\n",
    "e11 = (df_lgbts_independentes[df_lgbts_independentes['c_escolaridade']==11]['c_renda'])\n",
    "e12 = (df_lgbts_independentes[df_lgbts_independentes['c_escolaridade']==12]['c_renda'])\n",
    "e13 = (df_lgbts_independentes[df_lgbts_independentes['c_escolaridade']==13]['c_renda'])\n",
    "e14 = (df_lgbts_independentes[df_lgbts_independentes['c_escolaridade']==14]['c_renda'])\n",
    "e15 = (df_lgbts_independentes[df_lgbts_independentes['c_escolaridade']==15]['c_renda'])"
   ]
  },
  {
   "cell_type": "code",
   "execution_count": 21,
   "metadata": {},
   "outputs": [],
   "source": [
    "valores = [e0,e1,e2,e3,e4,e5,e6,e7,e8,e9,e10,e11,e12,e13,e14,e15]"
   ]
  },
  {
   "cell_type": "code",
   "execution_count": 22,
   "metadata": {
    "scrolled": true
   },
   "outputs": [
    {
     "data": {
      "image/png": "[encoded data removed]",
      "text/plain": [
       "<Figure size 1440x360 with 1 Axes>"
      ]
     },
     "metadata": {
      "needs_background": "light"
     },
     "output_type": "display_data"
    }
   ],
   "source": [
    "fig, ax = plt.subplots(figsize=(20,5))\n",
    "pos = np.array(range(len(valores))) + 1\n",
    "bp = ax.boxplot(valores)\n",
    "\n",
    "ax.set_xlabel('Escolaridade')\n",
    "ax.set_ylabel('Renda')\n",
    "plt.setp(bp['whiskers'], color='k', linestyle='-')\n",
    "plt.setp(bp['fliers'], markersize=3.0)\n",
    "plt.title('Escolaridade x Renda - Solteiros')\n",
    "plt.show()"
   ]
  },
  {
   "cell_type": "code",
   "execution_count": 23,
   "metadata": {},
   "outputs": [
    {
     "data": {
      "text/plain": [
       "array(['Ensino Superior Completo', 'Ensino Médio Incompleto',\n",
       "       'Ensino Técnico Completo', 'Doutorado Incompleto',\n",
       "       'Mestrado Completo', 'Ensino Superior Incompleto',\n",
       "       'Mestrado Incompleto', 'Doutorado Completo',\n",
       "       'Especialização Incompleta', 'Ensino Médio Completo',\n",
       "       'Especialização Completa', 'Ensino Fundamental Completo',\n",
       "       'Pós-Doutorado Incompleto', 'Pós-Doutorado Completo',\n",
       "       'Ensino Técnico Incompleto', 'Ensino Fundamental Incompleto'],\n",
       "      dtype=object)"
      ]
     },
     "execution_count": 23,
     "metadata": {},
     "output_type": "execute_result"
    }
   ],
   "source": [
    "df['Escolaridade'].unique()"
   ]
  },
  {
   "cell_type": "code",
   "execution_count": 24,
   "metadata": {},
   "outputs": [
    {
     "data": {
      "image/png": "[encoded data removed]",
      "text/plain": [
       "<Figure size 1440x360 with 3 Axes>"
      ]
     },
     "metadata": {
      "needs_background": "light"
     },
     "output_type": "display_data"
    }
   ],
   "source": [
    "# Dist Renda para Solteiros Independentes e Casados\n",
    "\n",
    "fig, axes = plt.subplots(1,3,sharey=False, sharex=False,figsize=(20,5))\n",
    "axes[0].hist(df_lgbts_independentes['c_renda'], color='b', label='Solteiro', alpha=0.5)\n",
    "axes[0].hist(df_lgbts_casados['c_renda'], color='r', label= 'Casado', alpha=0.5)\n",
    "axes[0].legend(loc='best')\n",
    "axes[0].set_title('Renda Solteiro vs Renda Casados');\n",
    "\n",
    "axes[1].hist(df_lgbts_independentes['c_escolaridade'], color='b', label='Solteiro', alpha=0.5)\n",
    "axes[1].hist(df_lgbts_casados['c_escolaridade'], color='r', label= 'Casado', alpha=0.5)\n",
    "axes[1].legend(loc='best')\n",
    "axes[1].set_title('Escolaridade Solteiro vs Escolaridade Casado');\n",
    "\n",
    "axes[2].hist(df_lgbts_independentes['c_age'], color='b', label='Solteiro', alpha=0.5)\n",
    "axes[2].hist(df_lgbts_casados['c_age'], color='r', label= 'Casado', alpha=0.5)\n",
    "axes[2].legend(loc='best')\n",
    "axes[2].set_title('Idade Solteiro vs Idade Casado');"
   ]
  },
  {
   "cell_type": "raw",
   "metadata": {},
   "source": [
    "print('Idade dos Solteiros: ',(df_lgbts_independentes['c_age'].mean()),' = Entre 25 e 29 anos')\n",
    "print('Idade dos Casados: ', (df_lgbts_casados['c_age'].mean()),' = Entre 30 e 39 anos')\n",
    "print()\n",
    "print('Escolaridade dos Solteiros: ', (df_lgbts_independentes['c_escolaridade'].mean()),' = Ensino Superior Completo')\n",
    "print('Escolaridade dos Casados: ', (df_lgbts_casados['c_escolaridade'].mean()),' = Ensino Superior Completo')"
   ]
  },
  {
   "cell_type": "markdown",
   "metadata": {},
   "source": [
    "<b> Análise de Correlação de Variáveis"
   ]
  },
  {
   "cell_type": "code",
   "execution_count": 25,
   "metadata": {},
   "outputs": [],
   "source": [
    "# Criando um DataFrame apenas com LGBT Independentes e Casados\n",
    "\n",
    "df_usual = pd.concat([df_lgbts_independentes,df_lgbts_casados])"
   ]
  },
  {
   "cell_type": "code",
   "execution_count": 26,
   "metadata": {},
   "outputs": [
    {
     "data": {
      "text/html": [
       "<style  type=\"text/css\" >\n",
       "    #T_9769bfc2_d98c_11e9_b6d9_9829a6e74d5frow0_col0 {\n",
       "            background-color:  #b40426;\n",
       "            color:  #f1f1f1;\n",
       "        }    #T_9769bfc2_d98c_11e9_b6d9_9829a6e74d5frow0_col1 {\n",
       "            background-color:  #688aef;\n",
       "            color:  #000000;\n",
       "        }    #T_9769bfc2_d98c_11e9_b6d9_9829a6e74d5frow0_col2 {\n",
       "            background-color:  #506bda;\n",
       "            color:  #000000;\n",
       "        }    #T_9769bfc2_d98c_11e9_b6d9_9829a6e74d5frow1_col0 {\n",
       "            background-color:  #536edd;\n",
       "            color:  #000000;\n",
       "        }    #T_9769bfc2_d98c_11e9_b6d9_9829a6e74d5frow1_col1 {\n",
       "            background-color:  #b40426;\n",
       "            color:  #f1f1f1;\n",
       "        }    #T_9769bfc2_d98c_11e9_b6d9_9829a6e74d5frow1_col2 {\n",
       "            background-color:  #3b4cc0;\n",
       "            color:  #f1f1f1;\n",
       "        }    #T_9769bfc2_d98c_11e9_b6d9_9829a6e74d5frow2_col0 {\n",
       "            background-color:  #3b4cc0;\n",
       "            color:  #f1f1f1;\n",
       "        }    #T_9769bfc2_d98c_11e9_b6d9_9829a6e74d5frow2_col1 {\n",
       "            background-color:  #3b4cc0;\n",
       "            color:  #f1f1f1;\n",
       "        }    #T_9769bfc2_d98c_11e9_b6d9_9829a6e74d5frow2_col2 {\n",
       "            background-color:  #b40426;\n",
       "            color:  #f1f1f1;\n",
       "        }</style><table id=\"T_9769bfc2_d98c_11e9_b6d9_9829a6e74d5f\" ><thead>    <tr>        <th class=\"blank level0\" ></th>        <th class=\"col_heading level0 col0\" >c_renda</th>        <th class=\"col_heading level0 col1\" >c_escolaridade</th>        <th class=\"col_heading level0 col2\" >c_age</th>    </tr></thead><tbody>\n",
       "                <tr>\n",
       "                        <th id=\"T_9769bfc2_d98c_11e9_b6d9_9829a6e74d5flevel0_row0\" class=\"row_heading level0 row0\" >c_renda</th>\n",
       "                        <td id=\"T_9769bfc2_d98c_11e9_b6d9_9829a6e74d5frow0_col0\" class=\"data row0 col0\" >1</td>\n",
       "                        <td id=\"T_9769bfc2_d98c_11e9_b6d9_9829a6e74d5frow0_col1\" class=\"data row0 col1\" >0.452305</td>\n",
       "                        <td id=\"T_9769bfc2_d98c_11e9_b6d9_9829a6e74d5frow0_col2\" class=\"data row0 col2\" >0.404522</td>\n",
       "            </tr>\n",
       "            <tr>\n",
       "                        <th id=\"T_9769bfc2_d98c_11e9_b6d9_9829a6e74d5flevel0_row1\" class=\"row_heading level0 row1\" >c_escolaridade</th>\n",
       "                        <td id=\"T_9769bfc2_d98c_11e9_b6d9_9829a6e74d5frow1_col0\" class=\"data row1 col0\" >0.452305</td>\n",
       "                        <td id=\"T_9769bfc2_d98c_11e9_b6d9_9829a6e74d5frow1_col1\" class=\"data row1 col1\" >1</td>\n",
       "                        <td id=\"T_9769bfc2_d98c_11e9_b6d9_9829a6e74d5frow1_col2\" class=\"data row1 col2\" >0.356851</td>\n",
       "            </tr>\n",
       "            <tr>\n",
       "                        <th id=\"T_9769bfc2_d98c_11e9_b6d9_9829a6e74d5flevel0_row2\" class=\"row_heading level0 row2\" >c_age</th>\n",
       "                        <td id=\"T_9769bfc2_d98c_11e9_b6d9_9829a6e74d5frow2_col0\" class=\"data row2 col0\" >0.404522</td>\n",
       "                        <td id=\"T_9769bfc2_d98c_11e9_b6d9_9829a6e74d5frow2_col1\" class=\"data row2 col1\" >0.356851</td>\n",
       "                        <td id=\"T_9769bfc2_d98c_11e9_b6d9_9829a6e74d5frow2_col2\" class=\"data row2 col2\" >1</td>\n",
       "            </tr>\n",
       "    </tbody></table>"
      ],
      "text/plain": [
       "<pandas.io.formats.style.Styler at 0x2d722f89860>"
      ]
     },
     "execution_count": 26,
     "metadata": {},
     "output_type": "execute_result"
    }
   ],
   "source": [
    "# Análise de Correlação entre as três variáveis de Mincer \n",
    "\n",
    "corr = df_usual[['c_renda','c_escolaridade','c_age']].corr()\n",
    "corr.style.background_gradient(cmap='coolwarm')"
   ]
  },
  {
   "cell_type": "markdown",
   "metadata": {},
   "source": [
    "# --------------------------------------------------------------------------------------------------------------"
   ]
  },
  {
   "cell_type": "markdown",
   "metadata": {},
   "source": [
    "<B> EQUAÇÃO DE SALÁRIOS MINCERIANA: ln w = β0 + β1 educ + β2 exp + β3 exp² + γ′ x + є </B>\n",
    " Onde: \n",
    " * w é o salário recebido pelo indivíduo,\n",
    " * educ é a sua escolaridade, geralmente medida por anos de estudo\n",
    " * exp é sua experiência, geralmente aproximada pelo idade do indivíduo\n",
    " * x é um vetor de características observáveis do indivíduo:\n",
    "     - Sexualidade\n",
    "     - Gênero\n",
    "     - Etnia/Cor\n",
    "     - Região"
   ]
  },
  {
   "cell_type": "markdown",
   "metadata": {},
   "source": [
    "<b> Anos de Estudo: </b> sem\n",
    "instrução (menos de 1 ano e sem instrução), ensino fundamental incompleto\n",
    "(1 a 8 anos de estudo), ensino fundamental completo (8 a 10 anos de estudo),\n",
    "ensino médio completo (11 a 14 anos de estudo) e ensino superior completo\n",
    "(15 anos ou mais de estudo). A contagem dos anos de estudo tem início em 1\n",
    "ano, a partir da 1ª série concluída com aprovação do ensino fundamental ou do\n",
    "elementar e, assim, sucessivamente.\n",
    "\n",
    "<i> Fonte: IBGE"
   ]
  },
  {
   "cell_type": "markdown",
   "metadata": {},
   "source": [
    "CRIANDO O CAMPO ANOS DE ESTUDO COM BASE NA ESCOLARIDADE E USANDO AS PREMISSAS DA PNAD (VARIÁVEL CONTÍNUA)"
   ]
  },
  {
   "cell_type": "code",
   "execution_count": 27,
   "metadata": {},
   "outputs": [],
   "source": [
    "df_usual['Anos de Estudo'] = df_usual['Escolaridade']"
   ]
  },
  {
   "cell_type": "code",
   "execution_count": 29,
   "metadata": {},
   "outputs": [],
   "source": [
    "df_usual['Anos de Estudo'] = df_usual['Anos de Estudo'].replace(\n",
    "    {'Pós-Doutorado Completo':25,\n",
    "     'Pós-Doutorado Incompleto':23,\n",
    "     'Doutorado Completo':21,\n",
    "     'Doutorado Incompleto':19,\n",
    "     'Mestrado Completo':17,\n",
    "     'Mestrado Incompleto':16,\n",
    "     'Especialização Completa':17,\n",
    "     'Especialização Incompleta':16,\n",
    "     'Ensino Superior Completo':15,\n",
    "     'Ensino Superior Incompleto':13,\n",
    "     'Ensino Técnico Completo':13,\n",
    "     'Ensino Técnico Incompleto':12,\n",
    "     'Ensino Médio Completo':11,\n",
    "     'Ensino Médio Incompleto':10,\n",
    "     'Ensino Fundamental Completo':8,\n",
    "     'Ensino Fundamental Incompleto':6})"
   ]
  },
  {
   "cell_type": "markdown",
   "metadata": {},
   "source": [
    "<b> CRIANDO O CAMPO EXPERIÊNCIA COM BASE NO PONTO MÉDIO DA IDADE DA FAIXA (VARIÁVEL CONTÍNUA)"
   ]
  },
  {
   "cell_type": "code",
   "execution_count": 43,
   "metadata": {},
   "outputs": [],
   "source": [
    "df_usual['Experiência'] = df_usual['Idade']"
   ]
  },
  {
   "cell_type": "code",
   "execution_count": 44,
   "metadata": {},
   "outputs": [],
   "source": [
    "df_usual['Experiência'] = df_usual['Experiência'].replace(\n",
    "    {'70 anos ou mais': 70-18,\n",
    "     'Entre 60 e 69 anos':64.5-18,\n",
    "     'Entre 50 e 59 anos':54.5-18,\n",
    "     'Entre 40 e 49 anos':44.5-18,\n",
    "     'Entre 30 e 39 anos':34.5-18,\n",
    "     'Entre 25 e 29 anos':27-18,\n",
    "     'Entre 20 e 24 anos':22-18,\n",
    "     'Entre 15 e 19 anos':18-18})"
   ]
  },
  {
   "cell_type": "code",
   "execution_count": 45,
   "metadata": {},
   "outputs": [],
   "source": [
    "df_usual['Experiência²'] = df_usual['Experiência'] * df_usual['Experiência']"
   ]
  },
  {
   "cell_type": "markdown",
   "metadata": {},
   "source": [
    "<b> DEFININDO O COMPOSTO DE VARIÁVEIS PARA APLICAÇÃO DO MODELO MINCERIANO </b>"
   ]
  },
  {
   "cell_type": "code",
   "execution_count": 103,
   "metadata": {},
   "outputs": [],
   "source": [
    "features = df_usual[['Anos de Estudo','Experiência','Experiência²','c_sexualidade','c_genero','c_etnia','c_uf','c_renda']]\n",
    "\n",
    "#features = df_usual[['Status Moradia','Anos de Estudo','Experiência','c_sexualidade','c_genero','c_etnia','c_uf','c_renda']]\n",
    "#features = features.set_index('Status Moradia')"
   ]
  },
  {
   "cell_type": "code",
   "execution_count": 104,
   "metadata": {},
   "outputs": [
    {
     "data": {
      "text/html": [
       "<div>\n",
       "<style scoped>\n",
       "    .dataframe tbody tr th:only-of-type {\n",
       "        vertical-align: middle;\n",
       "    }\n",
       "\n",
       "    .dataframe tbody tr th {\n",
       "        vertical-align: top;\n",
       "    }\n",
       "\n",
       "    .dataframe thead th {\n",
       "        text-align: right;\n",
       "    }\n",
       "</style>\n",
       "<table border=\"1\" class=\"dataframe\">\n",
       "  <thead>\n",
       "    <tr style=\"text-align: right;\">\n",
       "      <th></th>\n",
       "      <th>Anos de Estudo</th>\n",
       "      <th>Experiência</th>\n",
       "      <th>Experiência²</th>\n",
       "      <th>c_sexualidade</th>\n",
       "      <th>c_genero</th>\n",
       "      <th>c_etnia</th>\n",
       "      <th>c_uf</th>\n",
       "      <th>c_renda</th>\n",
       "    </tr>\n",
       "  </thead>\n",
       "  <tbody>\n",
       "    <tr>\n",
       "      <th>7</th>\n",
       "      <td>19</td>\n",
       "      <td>4.0</td>\n",
       "      <td>16.00</td>\n",
       "      <td>4</td>\n",
       "      <td>6</td>\n",
       "      <td>1</td>\n",
       "      <td>25</td>\n",
       "      <td>8</td>\n",
       "    </tr>\n",
       "    <tr>\n",
       "      <th>11</th>\n",
       "      <td>17</td>\n",
       "      <td>16.5</td>\n",
       "      <td>272.25</td>\n",
       "      <td>2</td>\n",
       "      <td>3</td>\n",
       "      <td>5</td>\n",
       "      <td>20</td>\n",
       "      <td>7</td>\n",
       "    </tr>\n",
       "    <tr>\n",
       "      <th>13</th>\n",
       "      <td>13</td>\n",
       "      <td>9.0</td>\n",
       "      <td>81.00</td>\n",
       "      <td>2</td>\n",
       "      <td>3</td>\n",
       "      <td>1</td>\n",
       "      <td>5</td>\n",
       "      <td>4</td>\n",
       "    </tr>\n",
       "    <tr>\n",
       "      <th>17</th>\n",
       "      <td>16</td>\n",
       "      <td>16.5</td>\n",
       "      <td>272.25</td>\n",
       "      <td>4</td>\n",
       "      <td>6</td>\n",
       "      <td>1</td>\n",
       "      <td>13</td>\n",
       "      <td>7</td>\n",
       "    </tr>\n",
       "    <tr>\n",
       "      <th>22</th>\n",
       "      <td>16</td>\n",
       "      <td>16.5</td>\n",
       "      <td>272.25</td>\n",
       "      <td>0</td>\n",
       "      <td>6</td>\n",
       "      <td>1</td>\n",
       "      <td>19</td>\n",
       "      <td>7</td>\n",
       "    </tr>\n",
       "  </tbody>\n",
       "</table>\n",
       "</div>"
      ],
      "text/plain": [
       "    Anos de Estudo  Experiência  Experiência²  c_sexualidade  c_genero  \\\n",
       "7               19          4.0         16.00              4         6   \n",
       "11              17         16.5        272.25              2         3   \n",
       "13              13          9.0         81.00              2         3   \n",
       "17              16         16.5        272.25              4         6   \n",
       "22              16         16.5        272.25              0         6   \n",
       "\n",
       "    c_etnia  c_uf  c_renda  \n",
       "7         1    25        8  \n",
       "11        5    20        7  \n",
       "13        1     5        4  \n",
       "17        1    13        7  \n",
       "22        1    19        7  "
      ]
     },
     "execution_count": 104,
     "metadata": {},
     "output_type": "execute_result"
    }
   ],
   "source": [
    "features.head()"
   ]
  },
  {
   "cell_type": "code",
   "execution_count": 105,
   "metadata": {},
   "outputs": [],
   "source": [
    "n_features = len(features.columns)-1\n",
    "\n",
    "X = np.array(features[['Anos de Estudo','Experiência','Experiência²']])\n",
    "y = np.log(np.array(features['c_renda']))"
   ]
  },
  {
   "cell_type": "markdown",
   "metadata": {},
   "source": [
    "<b> PADRONIZAÇÃO DAS VARIÁVEIS - DEU ERRADO"
   ]
  },
  {
   "cell_type": "code",
   "execution_count": 100,
   "metadata": {},
   "outputs": [],
   "source": [
    "scaler = StandardScaler()"
   ]
  },
  {
   "cell_type": "code",
   "execution_count": 101,
   "metadata": {},
   "outputs": [],
   "source": [
    "scaler.fit(X)\n",
    "X = scaler.transform(X)"
   ]
  },
  {
   "cell_type": "code",
   "execution_count": 106,
   "metadata": {},
   "outputs": [
    {
     "data": {
      "text/html": [
       "<table class=\"simpletable\">\n",
       "<caption>OLS Regression Results</caption>\n",
       "<tr>\n",
       "  <th>Dep. Variable:</th>            <td>y</td>        <th>  R-squared:         </th> <td>   0.957</td> \n",
       "</tr>\n",
       "<tr>\n",
       "  <th>Model:</th>                   <td>OLS</td>       <th>  Adj. R-squared:    </th> <td>   0.957</td> \n",
       "</tr>\n",
       "<tr>\n",
       "  <th>Method:</th>             <td>Least Squares</td>  <th>  F-statistic:       </th> <td>2.589e+04</td>\n",
       "</tr>\n",
       "<tr>\n",
       "  <th>Date:</th>             <td>Tue, 17 Sep 2019</td> <th>  Prob (F-statistic):</th>  <td>  0.00</td>  \n",
       "</tr>\n",
       "<tr>\n",
       "  <th>Time:</th>                 <td>18:10:39</td>     <th>  Log-Likelihood:    </th> <td> -1385.3</td> \n",
       "</tr>\n",
       "<tr>\n",
       "  <th>No. Observations:</th>      <td>  3476</td>      <th>  AIC:               </th> <td>   2777.</td> \n",
       "</tr>\n",
       "<tr>\n",
       "  <th>Df Residuals:</th>          <td>  3473</td>      <th>  BIC:               </th> <td>   2795.</td> \n",
       "</tr>\n",
       "<tr>\n",
       "  <th>Df Model:</th>              <td>     3</td>      <th>                     </th>     <td> </td>    \n",
       "</tr>\n",
       "<tr>\n",
       "  <th>Covariance Type:</th>      <td>nonrobust</td>    <th>                     </th>     <td> </td>    \n",
       "</tr>\n",
       "</table>\n",
       "<table class=\"simpletable\">\n",
       "<tr>\n",
       "   <td></td>     <th>coef</th>     <th>std err</th>      <th>t</th>      <th>P>|t|</th>  <th>[0.025</th>    <th>0.975]</th>  \n",
       "</tr>\n",
       "<tr>\n",
       "  <th>x1</th> <td>    0.0992</td> <td>    0.001</td> <td>   85.956</td> <td> 0.000</td> <td>    0.097</td> <td>    0.101</td>\n",
       "</tr>\n",
       "<tr>\n",
       "  <th>x2</th> <td>    0.0254</td> <td>    0.002</td> <td>   11.591</td> <td> 0.000</td> <td>    0.021</td> <td>    0.030</td>\n",
       "</tr>\n",
       "<tr>\n",
       "  <th>x3</th> <td>   -0.0005</td> <td> 5.72e-05</td> <td>   -8.342</td> <td> 0.000</td> <td>   -0.001</td> <td>   -0.000</td>\n",
       "</tr>\n",
       "</table>\n",
       "<table class=\"simpletable\">\n",
       "<tr>\n",
       "  <th>Omnibus:</th>       <td>936.000</td> <th>  Durbin-Watson:     </th> <td>   1.926</td>\n",
       "</tr>\n",
       "<tr>\n",
       "  <th>Prob(Omnibus):</th> <td> 0.000</td>  <th>  Jarque-Bera (JB):  </th> <td>3528.569</td>\n",
       "</tr>\n",
       "<tr>\n",
       "  <th>Skew:</th>          <td>-1.293</td>  <th>  Prob(JB):          </th> <td>    0.00</td>\n",
       "</tr>\n",
       "<tr>\n",
       "  <th>Kurtosis:</th>      <td> 7.204</td>  <th>  Cond. No.          </th> <td>    154.</td>\n",
       "</tr>\n",
       "</table><br/><br/>Warnings:<br/>[1] Standard Errors assume that the covariance matrix of the errors is correctly specified."
      ],
      "text/plain": [
       "<class 'statsmodels.iolib.summary.Summary'>\n",
       "\"\"\"\n",
       "                            OLS Regression Results                            \n",
       "==============================================================================\n",
       "Dep. Variable:                      y   R-squared:                       0.957\n",
       "Model:                            OLS   Adj. R-squared:                  0.957\n",
       "Method:                 Least Squares   F-statistic:                 2.589e+04\n",
       "Date:                Tue, 17 Sep 2019   Prob (F-statistic):               0.00\n",
       "Time:                        18:10:39   Log-Likelihood:                -1385.3\n",
       "No. Observations:                3476   AIC:                             2777.\n",
       "Df Residuals:                    3473   BIC:                             2795.\n",
       "Df Model:                           3                                         \n",
       "Covariance Type:            nonrobust                                         \n",
       "==============================================================================\n",
       "                 coef    std err          t      P>|t|      [0.025      0.975]\n",
       "------------------------------------------------------------------------------\n",
       "x1             0.0992      0.001     85.956      0.000       0.097       0.101\n",
       "x2             0.0254      0.002     11.591      0.000       0.021       0.030\n",
       "x3            -0.0005   5.72e-05     -8.342      0.000      -0.001      -0.000\n",
       "==============================================================================\n",
       "Omnibus:                      936.000   Durbin-Watson:                   1.926\n",
       "Prob(Omnibus):                  0.000   Jarque-Bera (JB):             3528.569\n",
       "Skew:                          -1.293   Prob(JB):                         0.00\n",
       "Kurtosis:                       7.204   Cond. No.                         154.\n",
       "==============================================================================\n",
       "\n",
       "Warnings:\n",
       "[1] Standard Errors assume that the covariance matrix of the errors is correctly specified.\n",
       "\"\"\""
      ]
     },
     "execution_count": 106,
     "metadata": {},
     "output_type": "execute_result"
    }
   ],
   "source": [
    "model = sm.OLS(y, X).fit()\n",
    "predictions = model.predict(X) # make the predictions by the model\n",
    "\n",
    "# Print out the statistics\n",
    "model.summary()"
   ]
  },
  {
   "cell_type": "markdown",
   "metadata": {},
   "source": [
    "<b> CRIANDO A REGRESSÃO PARA LOCALIZAR OS BETAS"
   ]
  },
  {
   "cell_type": "code",
   "execution_count": 37,
   "metadata": {},
   "outputs": [
    {
     "name": "stderr",
     "output_type": "stream",
     "text": [
      "C:\\Users\\Rodrigo\\Anaconda3\\lib\\site-packages\\ipykernel_launcher.py:2: RuntimeWarning: invalid value encountered in log\n",
      "  \n"
     ]
    }
   ],
   "source": [
    "X = features_std[['Anos de Estudo','Experiência','Experiência²']]\n",
    "y = np.log(features_std['c_renda'])"
   ]
  },
  {
   "cell_type": "markdown",
   "metadata": {},
   "source": [
    "<b> CRIANDO AS VARIÁVEIS W, EDUC E EXP"
   ]
  },
  {
   "cell_type": "code",
   "execution_count": 116,
   "metadata": {},
   "outputs": [],
   "source": [
    "n_features = len(features_std.columns)-1\n",
    "\n",
    "w = np.log(np.array(features['c_renda']))\n",
    "educ = np.array(features_std['Anos de Estudo'])\n",
    "exp = np.array(features_std['Experiência'])\n",
    "exp2 = np.array(features_std['Experiência']*features_std['Experiência'])\n",
    "#yx = np.array(features_std.drop(['c_renda','Anos de Estudo','Experiência'],1))\n",
    "X = educ,exp,exp2"
   ]
  },
  {
   "cell_type": "markdown",
   "metadata": {},
   "source": [
    "CRIANDO O VETOR DE CARACTERÍSTICAS OBSERVÁVEIS"
   ]
  },
  {
   "cell_type": "code",
   "execution_count": null,
   "metadata": {},
   "outputs": [],
   "source": [
    "from sklearn.decomposition import PCA"
   ]
  },
  {
   "cell_type": "code",
   "execution_count": null,
   "metadata": {},
   "outputs": [],
   "source": [
    "pca = PCA(n_components=3)\n",
    "pca.fit(yx)  "
   ]
  },
  {
   "cell_type": "markdown",
   "metadata": {},
   "source": [
    "GUARDANDO MÉDIA E DESVIO PADRÃO ANTES DE PADRONIZAR"
   ]
  },
  {
   "cell_type": "code",
   "execution_count": null,
   "metadata": {},
   "outputs": [],
   "source": [
    "educ_mean = educ.mean(axis=0)\n",
    "educ_std = educ.std(axis=0)\n",
    "\n",
    "exp_mean = exp.mean(axis=0)\n",
    "exp_std = exp.std(axis=0)\n",
    "\n",
    "yx_mean = yx.mean(axis=0)\n",
    "yx_std = yx.std(axis=0)\n",
    "\n",
    "print(educ_mean,educ_std,exp_mean,exp_std,yx_mean,yx_std)"
   ]
  },
  {
   "cell_type": "code",
   "execution_count": null,
   "metadata": {},
   "outputs": [],
   "source": [
    "from sklearn.preprocessing import StandardScaler\n",
    "scaler = StandardScaler()"
   ]
  },
  {
   "cell_type": "markdown",
   "metadata": {},
   "source": [
    "CRIAÇÃO DO INTERCEPTO (QUANDO X0 =1)"
   ]
  },
  {
   "cell_type": "code",
   "execution_count": null,
   "metadata": {},
   "outputs": [],
   "source": [
    "def insert_ones(X):\n",
    "    ones = np.ones([X.shape[0],1])\n",
    "    return np.concatenate((ones,X),axis=1)"
   ]
  },
  {
   "cell_type": "markdown",
   "metadata": {},
   "source": [
    "CRIANDO A REGRESSÃO PARA LOCALIZAR OS BETAS"
   ]
  },
  {
   "cell_type": "code",
   "execution_count": null,
   "metadata": {},
   "outputs": [],
   "source": []
  },
  {
   "cell_type": "code",
   "execution_count": null,
   "metadata": {},
   "outputs": [],
   "source": [
    "features['Experiência²'] = features['Experiência'] * features['Experiência']"
   ]
  },
  {
   "cell_type": "code",
   "execution_count": null,
   "metadata": {},
   "outputs": [],
   "source": [
    "model = sm.OLS(y, X).fit()\n",
    "predictions = model.predict(X) # make the predictions by the model\n",
    "\n",
    "# Print out the statistics\n",
    "model.summary()"
   ]
  },
  {
   "cell_type": "code",
   "execution_count": null,
   "metadata": {},
   "outputs": [],
   "source": []
  }
 ],
 "metadata": {
  "kernelspec": {
   "display_name": "Python 3",
   "language": "python",
   "name": "python3"
  },
  "language_info": {
   "codemirror_mode": {
    "name": "ipython",
    "version": 3
   },
   "file_extension": ".py",
   "mimetype": "text/x-python",
   "name": "python",
   "nbconvert_exporter": "python",
   "pygments_lexer": "ipython3",
   "version": "3.7.3"
  }
 },
 "nbformat": 4,
 "nbformat_minor": 2
}
